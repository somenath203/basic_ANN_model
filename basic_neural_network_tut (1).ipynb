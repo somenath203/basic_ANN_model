{
 "cells": [
  {
   "cell_type": "code",
   "execution_count": 1,
   "metadata": {
    "id": "DTuySSNavyPq"
   },
   "outputs": [],
   "source": [
    "# loading packages\n",
    "\n",
    "import numpy as np\n",
    "import pandas as pd\n",
    "import tensorflow as tf"
   ]
  },
  {
   "cell_type": "code",
   "execution_count": 2,
   "metadata": {
    "id": "I2XsvVi30dGB"
   },
   "outputs": [],
   "source": [
    "# loading the dataset\n",
    "\n",
    "dataset = pd.read_excel(\"Folds5x2_pp.xlsx\")\n",
    "\n",
    "X = dataset.iloc[:, :-1].values \n",
    "y = dataset.iloc[:, -1].values"
   ]
  },
  {
   "cell_type": "code",
   "execution_count": 3,
   "metadata": {
    "colab": {
     "base_uri": "https://localhost:8080/"
    },
    "executionInfo": {
     "elapsed": 17,
     "status": "ok",
     "timestamp": 1633611878185,
     "user": {
      "displayName": "Somenath Choudhury",
      "photoUrl": "https://lh3.googleusercontent.com/a-/AOh14Gge7Y4eSx64IzELrJvNxngNNEhtyc99AGGpQuHW=s64",
      "userId": "14218932694518283094"
     },
     "user_tz": -330
    },
    "id": "uGhB_97l4VO0",
    "outputId": "03e9fe0d-5d0b-44f8-eaf5-84617a150981"
   },
   "outputs": [
    {
     "name": "stdout",
     "output_type": "stream",
     "text": [
      "[[  14.96   41.76 1024.07   73.17]\n",
      " [  25.18   62.96 1020.04   59.08]\n",
      " [   5.11   39.4  1012.16   92.14]\n",
      " ...\n",
      " [  31.32   74.33 1012.92   36.48]\n",
      " [  24.48   69.45 1013.86   62.39]\n",
      " [  21.6    62.52 1017.23   67.87]]\n",
      "[463.26 444.37 488.56 ... 429.57 435.74 453.28]\n"
     ]
    }
   ],
   "source": [
    "print(X)\n",
    "print(y)"
   ]
  },
  {
   "cell_type": "code",
   "execution_count": 4,
   "metadata": {
    "id": "G61QAbM-4jOU"
   },
   "outputs": [],
   "source": [
    "# splitting the data into training set and testing set\n",
    "\n",
    "from sklearn.model_selection import train_test_split\n",
    "\n",
    "X_train, X_test, y_train, y_test = train_test_split(X, y, test_size=0.2, random_state = 0)"
   ]
  },
  {
   "cell_type": "code",
   "execution_count": 5,
   "metadata": {
    "id": "ef1X1iXP6dqi"
   },
   "outputs": [],
   "source": [
    "# initialzing the artificial neural network\n",
    "\n",
    "ann = tf.keras.models.Sequential()"
   ]
  },
  {
   "cell_type": "code",
   "execution_count": 6,
   "metadata": {
    "id": "AEMzcN8B82oN"
   },
   "outputs": [],
   "source": [
    "# adding the input layer and the first hidden layer\n",
    "\n",
    "ann.add(tf.keras.layers.Dense(units=6, activation='relu'))"
   ]
  },
  {
   "cell_type": "code",
   "execution_count": 7,
   "metadata": {
    "id": "dtYC7qcb_Mk1"
   },
   "outputs": [],
   "source": [
    "# adding the second hiddden layer\n",
    "\n",
    "ann.add(tf.keras.layers.Dense(units=6, activation='relu'))"
   ]
  },
  {
   "cell_type": "code",
   "execution_count": 8,
   "metadata": {
    "id": "k6skkpty_2Wh"
   },
   "outputs": [],
   "source": [
    "# adding the output layer\n",
    "\n",
    "ann.add(tf.keras.layers.Dense(units=1))"
   ]
  },
  {
   "cell_type": "code",
   "execution_count": 9,
   "metadata": {
    "id": "SjVWbYLOCh1E"
   },
   "outputs": [],
   "source": [
    "# compiling the artificial neural network\n",
    "\n",
    "ann.compile(optimizer='adam', loss='mean_squared_error')"
   ]
  },
  {
   "cell_type": "code",
   "execution_count": 10,
   "metadata": {
    "colab": {
     "base_uri": "https://localhost:8080/"
    },
    "executionInfo": {
     "elapsed": 41696,
     "status": "ok",
     "timestamp": 1633611921584,
     "user": {
      "displayName": "Somenath Choudhury",
      "photoUrl": "https://lh3.googleusercontent.com/a-/AOh14Gge7Y4eSx64IzELrJvNxngNNEhtyc99AGGpQuHW=s64",
      "userId": "14218932694518283094"
     },
     "user_tz": -330
    },
    "id": "fSnHI-kiES_a",
    "outputId": "90c68ae6-dd95-4027-f347-49b7fc7993d0"
   },
   "outputs": [
    {
     "name": "stdout",
     "output_type": "stream",
     "text": [
      "Epoch 1/100\n",
      "240/240 [==============================] - 1s 793us/step - loss: 146007.8906\n",
      "Epoch 2/100\n",
      "240/240 [==============================] - 0s 741us/step - loss: 749.5964\n",
      "Epoch 3/100\n",
      "240/240 [==============================] - 0s 787us/step - loss: 557.3624\n",
      "Epoch 4/100\n",
      "240/240 [==============================] - 0s 858us/step - loss: 521.8374\n",
      "Epoch 5/100\n",
      "240/240 [==============================] - 0s 854us/step - loss: 482.1977\n",
      "Epoch 6/100\n",
      "240/240 [==============================] - 0s 971us/step - loss: 438.6703\n",
      "Epoch 7/100\n",
      "240/240 [==============================] - 0s 996us/step - loss: 393.5296\n",
      "Epoch 8/100\n",
      "240/240 [==============================] - 0s 833us/step - loss: 347.2216\n",
      "Epoch 9/100\n",
      "240/240 [==============================] - 0s 840us/step - loss: 301.4778\n",
      "Epoch 10/100\n",
      "240/240 [==============================] - 0s 862us/step - loss: 254.6367\n",
      "Epoch 11/100\n",
      "240/240 [==============================] - 0s 1ms/step - loss: 178.6480\n",
      "Epoch 12/100\n",
      "240/240 [==============================] - 0s 854us/step - loss: 110.2909\n",
      "Epoch 13/100\n",
      "240/240 [==============================] - 0s 774us/step - loss: 65.4344\n",
      "Epoch 14/100\n",
      "240/240 [==============================] - 0s 803us/step - loss: 46.7718\n",
      "Epoch 15/100\n",
      "240/240 [==============================] - 0s 1ms/step - loss: 39.2124: 0s - los\n",
      "Epoch 16/100\n",
      "240/240 [==============================] - 0s 979us/step - loss: 35.7641\n",
      "Epoch 17/100\n",
      "240/240 [==============================] - 0s 824us/step - loss: 32.88780s - loss: 3\n",
      "Epoch 18/100\n",
      "240/240 [==============================] - 0s 953us/step - loss: 31.05540s - loss: 3\n",
      "Epoch 19/100\n",
      "240/240 [==============================] - 0s 946us/step - loss: 29.7599\n",
      "Epoch 20/100\n",
      "240/240 [==============================] - 0s 912us/step - loss: 29.4474\n",
      "Epoch 21/100\n",
      "240/240 [==============================] - 0s 916us/step - loss: 28.8132\n",
      "Epoch 22/100\n",
      "240/240 [==============================] - 0s 824us/step - loss: 28.5290\n",
      "Epoch 23/100\n",
      "240/240 [==============================] - 0s 891us/step - loss: 28.0537\n",
      "Epoch 24/100\n",
      "240/240 [==============================] - 0s 898us/step - loss: 28.20990s - loss: 2\n",
      "Epoch 25/100\n",
      "240/240 [==============================] - 0s 795us/step - loss: 28.0938\n",
      "Epoch 26/100\n",
      "240/240 [==============================] - 0s 795us/step - loss: 27.6866\n",
      "Epoch 27/100\n",
      "240/240 [==============================] - 0s 741us/step - loss: 27.9743\n",
      "Epoch 28/100\n",
      "240/240 [==============================] - 0s 783us/step - loss: 28.2164\n",
      "Epoch 29/100\n",
      "240/240 [==============================] - 0s 816us/step - loss: 27.3678\n",
      "Epoch 30/100\n",
      "240/240 [==============================] - 0s 1000us/step - loss: 27.0014s - loss: 27.\n",
      "Epoch 31/100\n",
      "240/240 [==============================] - 0s 908us/step - loss: 27.3743\n",
      "Epoch 32/100\n",
      "240/240 [==============================] - 0s 946us/step - loss: 28.5031\n",
      "Epoch 33/100\n",
      "240/240 [==============================] - 0s 908us/step - loss: 27.8913\n",
      "Epoch 34/100\n",
      "240/240 [==============================] - 0s 921us/step - loss: 27.1985\n",
      "Epoch 35/100\n",
      "240/240 [==============================] - 0s 937us/step - loss: 26.8446\n",
      "Epoch 36/100\n",
      "240/240 [==============================] - 0s 1ms/step - loss: 27.6459\n",
      "Epoch 37/100\n",
      "240/240 [==============================] - 0s 798us/step - loss: 27.3367\n",
      "Epoch 38/100\n",
      "240/240 [==============================] - 0s 824us/step - loss: 27.2764\n",
      "Epoch 39/100\n",
      "240/240 [==============================] - 0s 820us/step - loss: 27.6749\n",
      "Epoch 40/100\n",
      "240/240 [==============================] - 0s 1ms/step - loss: 27.4770\n",
      "Epoch 41/100\n",
      "240/240 [==============================] - 0s 1ms/step - loss: 27.1651\n",
      "Epoch 42/100\n",
      "240/240 [==============================] - 0s 937us/step - loss: 27.3617\n",
      "Epoch 43/100\n",
      "240/240 [==============================] - 0s 841us/step - loss: 26.7933\n",
      "Epoch 44/100\n",
      "240/240 [==============================] - 0s 1ms/step - loss: 27.1974\n",
      "Epoch 45/100\n",
      "240/240 [==============================] - 0s 958us/step - loss: 26.91710s - loss: 26.\n",
      "Epoch 46/100\n",
      "240/240 [==============================] - 0s 911us/step - loss: 27.1706\n",
      "Epoch 47/100\n",
      "240/240 [==============================] - 0s 965us/step - loss: 27.2869\n",
      "Epoch 48/100\n",
      "240/240 [==============================] - 0s 962us/step - loss: 27.3667\n",
      "Epoch 49/100\n",
      "240/240 [==============================] - 0s 921us/step - loss: 27.3386\n",
      "Epoch 50/100\n",
      "240/240 [==============================] - 0s 1ms/step - loss: 26.8027\n",
      "Epoch 51/100\n",
      "240/240 [==============================] - 0s 1ms/step - loss: 27.4124\n",
      "Epoch 52/100\n",
      "240/240 [==============================] - 0s 1ms/step - loss: 27.5807\n",
      "Epoch 53/100\n",
      "240/240 [==============================] - 0s 987us/step - loss: 26.6032\n",
      "Epoch 54/100\n",
      "240/240 [==============================] - 0s 965us/step - loss: 27.6902\n",
      "Epoch 55/100\n",
      "240/240 [==============================] - 0s 1ms/step - loss: 27.3852\n",
      "Epoch 56/100\n",
      "240/240 [==============================] - 0s 1ms/step - loss: 26.9207\n",
      "Epoch 57/100\n",
      "240/240 [==============================] - 0s 941us/step - loss: 27.2143\n",
      "Epoch 58/100\n",
      "240/240 [==============================] - 0s 1ms/step - loss: 27.5724\n",
      "Epoch 59/100\n",
      "240/240 [==============================] - 0s 921us/step - loss: 27.0881\n",
      "Epoch 60/100\n",
      "240/240 [==============================] - 0s 619us/step - loss: 26.9956\n",
      "Epoch 61/100\n",
      "240/240 [==============================] - 0s 540us/step - loss: 27.1131\n",
      "Epoch 62/100\n",
      "240/240 [==============================] - 0s 557us/step - loss: 27.1586\n",
      "Epoch 63/100\n",
      "240/240 [==============================] - 0s 619us/step - loss: 26.8148\n",
      "Epoch 64/100\n",
      "240/240 [==============================] - 0s 550us/step - loss: 26.7996\n",
      "Epoch 65/100\n",
      "240/240 [==============================] - 0s 557us/step - loss: 27.1380\n",
      "Epoch 66/100\n",
      "240/240 [==============================] - 0s 555us/step - loss: 27.2877\n",
      "Epoch 67/100\n",
      "240/240 [==============================] - 0s 546us/step - loss: 26.6950\n",
      "Epoch 68/100\n",
      "240/240 [==============================] - 0s 538us/step - loss: 27.6301\n",
      "Epoch 69/100\n",
      "240/240 [==============================] - 0s 552us/step - loss: 27.2905\n",
      "Epoch 70/100\n",
      "240/240 [==============================] - 0s 550us/step - loss: 26.6247\n",
      "Epoch 71/100\n",
      "240/240 [==============================] - 0s 547us/step - loss: 26.9870\n",
      "Epoch 72/100\n",
      "240/240 [==============================] - 0s 562us/step - loss: 27.8057\n",
      "Epoch 73/100\n",
      "240/240 [==============================] - 0s 547us/step - loss: 26.7163\n",
      "Epoch 74/100\n",
      "240/240 [==============================] - 0s 545us/step - loss: 27.0868\n",
      "Epoch 75/100\n",
      "240/240 [==============================] - 0s 543us/step - loss: 26.7001\n",
      "Epoch 76/100\n",
      "240/240 [==============================] - 0s 569us/step - loss: 27.1165\n",
      "Epoch 77/100\n",
      "240/240 [==============================] - 0s 548us/step - loss: 26.6282\n",
      "Epoch 78/100\n",
      "240/240 [==============================] - 0s 550us/step - loss: 27.5519\n",
      "Epoch 79/100\n",
      "240/240 [==============================] - 0s 553us/step - loss: 27.2784\n",
      "Epoch 80/100\n",
      "240/240 [==============================] - 0s 544us/step - loss: 26.7827\n",
      "Epoch 81/100\n",
      "240/240 [==============================] - 0s 549us/step - loss: 27.3986\n",
      "Epoch 82/100\n",
      "240/240 [==============================] - 0s 546us/step - loss: 26.7212\n",
      "Epoch 83/100\n",
      "240/240 [==============================] - 0s 549us/step - loss: 27.7730\n",
      "Epoch 84/100\n",
      "240/240 [==============================] - 0s 572us/step - loss: 27.4682\n",
      "Epoch 85/100\n",
      "240/240 [==============================] - 0s 544us/step - loss: 27.7616\n",
      "Epoch 86/100\n",
      "240/240 [==============================] - 0s 545us/step - loss: 26.9641\n",
      "Epoch 87/100\n",
      "240/240 [==============================] - 0s 556us/step - loss: 27.4934\n",
      "Epoch 88/100\n",
      "240/240 [==============================] - 0s 540us/step - loss: 28.2550\n",
      "Epoch 89/100\n",
      "240/240 [==============================] - 0s 551us/step - loss: 27.0487\n",
      "Epoch 90/100\n",
      "240/240 [==============================] - 0s 548us/step - loss: 26.7384\n",
      "Epoch 91/100\n",
      "240/240 [==============================] - 0s 549us/step - loss: 26.5835\n",
      "Epoch 92/100\n",
      "240/240 [==============================] - 0s 546us/step - loss: 26.9332\n",
      "Epoch 93/100\n",
      "240/240 [==============================] - 0s 548us/step - loss: 27.4653\n",
      "Epoch 94/100\n",
      "240/240 [==============================] - 0s 548us/step - loss: 26.8911\n",
      "Epoch 95/100\n"
     ]
    },
    {
     "name": "stdout",
     "output_type": "stream",
     "text": [
      "240/240 [==============================] - 0s 557us/step - loss: 27.3281\n",
      "Epoch 96/100\n",
      "240/240 [==============================] - 0s 544us/step - loss: 26.8392\n",
      "Epoch 97/100\n",
      "240/240 [==============================] - 0s 536us/step - loss: 26.4515\n",
      "Epoch 98/100\n",
      "240/240 [==============================] - 0s 536us/step - loss: 27.2765\n",
      "Epoch 99/100\n",
      "240/240 [==============================] - 0s 536us/step - loss: 26.9347\n",
      "Epoch 100/100\n",
      "240/240 [==============================] - 0s 540us/step - loss: 26.9030\n"
     ]
    },
    {
     "data": {
      "text/plain": [
       "<keras.callbacks.History at 0x18c160e22e0>"
      ]
     },
     "execution_count": 10,
     "metadata": {},
     "output_type": "execute_result"
    }
   ],
   "source": [
    "# training the artificial neural network model on the training set\n",
    "\n",
    "ann.fit(X_train, y_train, batch_size=32, epochs=100)"
   ]
  },
  {
   "cell_type": "code",
   "execution_count": 11,
   "metadata": {
    "colab": {
     "base_uri": "https://localhost:8080/"
    },
    "executionInfo": {
     "elapsed": 40,
     "status": "ok",
     "timestamp": 1633611921585,
     "user": {
      "displayName": "Somenath Choudhury",
      "photoUrl": "https://lh3.googleusercontent.com/a-/AOh14Gge7Y4eSx64IzELrJvNxngNNEhtyc99AGGpQuHW=s64",
      "userId": "14218932694518283094"
     },
     "user_tz": -330
    },
    "id": "yr1Fxav-Gb8w",
    "outputId": "1e981a54-2c2d-4541-d406-ba70de586771"
   },
   "outputs": [
    {
     "name": "stdout",
     "output_type": "stream",
     "text": [
      "[[429.64 431.23]\n",
      " [460.64 460.01]\n",
      " [464.12 461.14]\n",
      " ...\n",
      " [471.35 473.26]\n",
      " [438.25 438.  ]\n",
      " [457.41 463.28]]\n"
     ]
    }
   ],
   "source": [
    "# predicting the result of the test set\n",
    "\n",
    "y_pred = ann.predict(X_test)\n",
    "\n",
    "np.set_printoptions(precision=2)\n",
    "\n",
    "print(np.concatenate((y_pred.reshape(len(y_pred),1), y_test.reshape(len(y_test),1)), 1))"
   ]
  }
 ],
 "metadata": {
  "colab": {
   "authorship_tag": "ABX9TyOKNbLOma3SEdshaZvlRk2K",
   "collapsed_sections": [],
   "name": "basic_neural_network_tut.ipynb",
   "provenance": []
  },
  "kernelspec": {
   "display_name": "Python 3 (ipykernel)",
   "language": "python",
   "name": "python3"
  },
  "language_info": {
   "codemirror_mode": {
    "name": "ipython",
    "version": 3
   },
   "file_extension": ".py",
   "mimetype": "text/x-python",
   "name": "python",
   "nbconvert_exporter": "python",
   "pygments_lexer": "ipython3",
   "version": "3.9.6"
  }
 },
 "nbformat": 4,
 "nbformat_minor": 1
}
